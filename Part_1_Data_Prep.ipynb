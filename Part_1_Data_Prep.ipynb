{
 "cells": [
  {
   "cell_type": "code",
   "execution_count": 1,
   "metadata": {
    "collapsed": false
   },
   "outputs": [],
   "source": [
    "import pandas as pd\n",
    "import numpy as np\n",
    "import os, itertools\n",
    "os.environ['MPLCONFIGDIR'] = os.getcwd() + \"/configs/\"\n",
    "import matplotlib.pyplot as plt\n",
    "\n",
    "import datetime\n",
    "from sklearn.preprocessing import MinMaxScaler\n",
    "from collections import Counter\n",
    "\n",
    "import warnings\n",
    "warnings.simplefilter(action='ignore', category=FutureWarning)"
   ]
  },
  {
   "cell_type": "code",
   "execution_count": 2,
   "metadata": {
    "collapsed": false
   },
   "outputs": [],
   "source": [
    "IMAGE_SIZE = 50"
   ]
  },
  {
   "cell_type": "code",
   "execution_count": 3,
   "metadata": {
    "collapsed": false
   },
   "outputs": [
    {
     "name": "stdout",
     "output_type": "stream",
     "text": [
      "Notebook directory:  /shared\n",
      "Images directory:  /shared/data/3k/images\n"
     ]
    }
   ],
   "source": [
    "# current working directory from which notebook is located\n",
    "cur_dir = os.getcwd()\n",
    "# the data is located in this data_dir\n",
    "data_dir = os.path.join(cur_dir, 'data/3k')\n",
    "images_dir = os.path.join(data_dir, 'images')\n",
    "\n",
    "print(\"Notebook directory: \", cur_dir)\n",
    "print(\"Images directory: \", images_dir)"
   ]
  },
  {
   "cell_type": "code",
   "execution_count": 4,
   "metadata": {
    "collapsed": false
   },
   "outputs": [
    {
     "name": "stdout",
     "output_type": "stream",
     "text": [
      "Stock symbol_list length:  93\n"
     ]
    }
   ],
   "source": [
    "symbols_TSX = pd.read_csv('symbols_TSX.csv', header=None)\n",
    "symbols_TSX.columns = ['Name']\n",
    "symbol_list = symbols_TSX['Name'].tolist()\n",
    "print('Stock symbol_list length: ', len(symbol_list))"
   ]
  },
  {
   "cell_type": "code",
   "execution_count": 5,
   "metadata": {
    "collapsed": false
   },
   "outputs": [],
   "source": [
    "def db_one_symbol(symbol, lowest_date, highest_date):\n",
    "    query = f\"SELECT * FROM daily_price WHERE symbol='{symbol}' \"\n",
    "    df = pd.read_sql(query,engine)\n",
    "    df.columns = ['Date', 'Symbol', 'Adj_close', 'Close', 'High', 'Low', 'Open','Volume']\n",
    "    df['Date'] = pd.to_datetime(df['Date']).dt.date\n",
    "    df.set_index(['Date'],inplace=True)\n",
    "    df = df.sort_index()\n",
    "    df.drop(['Symbol'], axis=1, inplace=True)\n",
    "    df = df.loc[lowest_date:highest_date]\n",
    "    return df\n"
   ]
  },
  {
   "cell_type": "code",
   "execution_count": 6,
   "metadata": {
    "collapsed": false
   },
   "outputs": [],
   "source": [
    "# REQUIREMENT:  TA-LIB Package to be installed AS ROOT\n",
    "# https://github.com/mrjbq7/ta-lib\n",
    "\n",
    "# docker exec --user=\"root\" -it <container_name> /bin/bash\n",
    "#!wget http://prdownloads.sourceforge.net/ta-lib/ta-lib-0.4.0-src.tar.gz\n",
    "#!tar -xzf ta-lib-0.4.0-src.tar.gz\n",
    "# !cd ta-lib/\n",
    "# !./configure --prefix=/usr\n",
    "# !make\n",
    "# !make install\n",
    "# !pip install ta-lib"
   ]
  },
  {
   "cell_type": "code",
   "execution_count": 7,
   "metadata": {
    "collapsed": false
   },
   "outputs": [],
   "source": [
    "def calculate_log_return_series(series:pd.Series, t) -> pd.Series:\n",
    "    \"\"\"\n",
    "    calculate  log returns over past timeperiod t in days\n",
    "    \"\"\"\n",
    "    shifted_series = series.shift(t, axis=0)\n",
    "    return pd.Series(np.log(series / shifted_series))\n",
    "\n",
    "def calculate_DollarValue(price:pd.Series, volume:pd.Series) -> pd.Series:\n",
    "    DollarVolume = price * volume /1000000\n",
    "    return pd.Series(DollarVolume)\n"
   ]
  },
  {
   "cell_type": "code",
   "execution_count": 8,
   "metadata": {
    "collapsed": false
   },
   "outputs": [],
   "source": [
    "import talib as tb\n",
    "\n",
    "def _create_ta_indicators(data):\n",
    "    '''Calculating the features ie. Technical Indicator Values\n",
    "        Parameters: pandas price dataframe in OHLCV column names '''\n",
    "\n",
    "    imageList = []\n",
    "    labelList = []\n",
    "    axes = ['Date', 'Value']\n",
    "   \n",
    "    rsi = tb.RSI(data[\"Close\"], timeperiod=14).to_frame().reset_index().set_axis(axes, axis=1)\n",
    "    wma = tb.WMA(data[\"Close\"], timeperiod=30).to_frame().reset_index().set_axis(axes, axis=1)\n",
    "    ema = tb.EMA(data[\"Close\"], timeperiod=30).to_frame().reset_index().set_axis(axes, axis=1)\n",
    "    sma = tb.SMA(data[\"Close\"], timeperiod=30).to_frame().reset_index().set_axis(axes, axis=1)\n",
    "    roc = tb.ROC(data[\"Close\"], timeperiod=10).to_frame().reset_index().set_axis(axes, axis=1)\n",
    "    cmo = tb.CMO(data[\"Close\"], timeperiod=14).to_frame().reset_index().set_axis(axes, axis=1)\n",
    "    cci = tb.CCI(data[\"High\"], data[\"Low\"], data[\"Close\"], timeperiod=14).to_frame().reset_index().set_axis(axes, axis=1)\n",
    "    ppo = tb.PPO(data[\"Close\"], fastperiod=12, slowperiod=26, matype=0).to_frame().reset_index().set_axis(axes, axis=1)\n",
    "    tema = tb.TEMA(data[\"Close\"], timeperiod=30).to_frame( ).reset_index().set_axis(axes, axis=1)\n",
    "    willr = tb.WILLR(data[\"High\"], data[\"Low\"], data[\"Close\"], timeperiod=14).to_frame().reset_index().set_axis(axes, axis=1)\n",
    "    macd, macdsignal, macdhist = tb.MACD( data[\"Close\"], fastperiod=12, slowperiod=26, signalperiod=9)\n",
    "    macd = macd.to_frame().reset_index().set_axis(axes, axis=1)\n",
    "    sar = tb.SAR(data[\"High\"], data[\"Low\"], acceleration=0, maximum=0).to_frame().reset_index().set_axis(axes, axis=1)\n",
    "    adx = tb.ADX(data[\"High\"], data[\"Low\"], data[\"Close\"], timeperiod=14).to_frame().reset_index().set_axis(axes, axis=1)\n",
    "    std = tb.STDDEV(data['Close'], timeperiod=5, nbdev=1).to_frame( ).reset_index().set_axis(axes, axis=1)\n",
    "    obv = tb.OBV(data['Close'], data['Volume']).to_frame( ).reset_index().set_axis(axes, axis=1)\n",
    "    adxr = tb.ADXR(data[\"High\"], data[\"Low\"], data[\"Close\"], timeperiod=14).to_frame().reset_index().set_axis(axes, axis=1)\n",
    "    apo = tb.APO(data['Close'], fastperiod=12, slowperiod=26, matype=0).to_frame().reset_index().set_axis(axes, axis=1)\n",
    "    aroondown, aroonup = tb.AROON(data[\"High\"], data[\"Low\"], timeperiod=14)\n",
    "    aroondown = aroondown.to_frame().reset_index().set_axis(axes, axis=1)\n",
    "    aroonup = aroonup.to_frame().reset_index().set_axis(axes, axis=1)\n",
    "    aroonosc = tb.AROONOSC(data[\"High\"], data[\"Low\"], timeperiod=14).to_frame().reset_index().set_axis(axes, axis=1)\n",
    "    bop = tb.BOP(data[\"Open\"], data[\"High\"], data[\"Low\"], data[\"Close\"]).to_frame( ).reset_index().set_axis(axes, axis=1)\n",
    "    dx = tb.DX(data[\"High\"], data[\"Low\"], data[\"Close\"], timeperiod=14).to_frame().reset_index().set_axis(axes, axis=1)\n",
    "    macdext, macdextsignal, macdexthist = tb.MACDEXT( data[\"Close\"], fastperiod=12, fastmatype=0, slowperiod=26, slowmatype=0, signalperiod=9, signalmatype=0)\n",
    "    macdext = macdext.to_frame().reset_index().set_axis(axes, axis=1)\n",
    "    macdfix, macdfixsignal, macdfixhist = tb.MACDFIX( data[\"Close\"], signalperiod=9)\n",
    "    macdfix = macdfix.to_frame().reset_index().set_axis(axes, axis=1)\n",
    "    mfi = tb.MFI(data[\"High\"], data[\"Low\"], data[\"Close\"], data[\"Volume\"], timeperiod=14).to_frame().reset_index().set_axis(axes, axis=1)\n",
    "    minus_di = tb.MINUS_DI(data[\"High\"], data[\"Low\"], data[\"Close\"], timeperiod=14).to_frame().reset_index().set_axis(axes, axis=1)\n",
    "    minus_dm = tb.MINUS_DM(data[\"High\"], data[\"Low\"], timeperiod=14).to_frame( ).reset_index().set_axis(axes, axis=1)\n",
    "    mom = tb.MOM(data[\"Close\"], timeperiod=10).to_frame( ).reset_index().set_axis(axes, axis=1)\n",
    "    plus_di = tb.PLUS_DI(data[\"High\"], data[\"Low\"], data[\"Close\"], timeperiod=14).to_frame().reset_index().set_axis(axes, axis=1)\n",
    "    plus_dm = tb.PLUS_DM(data[\"High\"], data[\"Low\"], timeperiod=14).to_frame( ).reset_index().set_axis(axes, axis=1)\n",
    "    rocp = tb.ROCP(data[\"Close\"], timeperiod=10).to_frame( ).reset_index().set_axis(axes, axis=1)\n",
    "    rocr = tb.ROCR(data[\"Close\"], timeperiod=10).to_frame( ).reset_index().set_axis(axes, axis=1)\n",
    "    rocr100 = tb.ROCR100(data[\"Close\"], timeperiod=10).to_frame( ).reset_index().set_axis(axes, axis=1)\n",
    "    slowk, slowd = tb.STOCH(data[\"High\"], data[\"Low\"], data[\"Close\"], fastk_period=5, slowk_period=3, slowk_matype=0, slowd_period=3, slowd_matype=0)\n",
    "    slowk = slowk.to_frame().reset_index().set_axis(axes, axis=1)\n",
    "    slowd = slowd.to_frame().reset_index().set_axis(axes, axis=1)\n",
    "    fastk, fastd = tb.STOCHF( data[\"High\"], data[\"Low\"], data[\"Close\"], fastk_period=5, fastd_period=3, fastd_matype=0)\n",
    "    fastk = fastk.to_frame().reset_index().set_axis(axes, axis=1)\n",
    "    fastd = fastd.to_frame().reset_index().set_axis(axes, axis=1)\n",
    "    fastkrsi, fastdrsi = tb.STOCHRSI( data[\"Close\"], timeperiod=14, fastk_period=5, fastd_period=3, fastd_matype=0)\n",
    "    fastkrsi = fastkrsi.to_frame().reset_index().set_axis(axes, axis=1)\n",
    "    fastdrsi = fastdrsi.to_frame().reset_index().set_axis(axes, axis=1)\n",
    "    trix = tb.TRIX(data[\"Close\"], timeperiod=30).to_frame( ).reset_index().set_axis(axes, axis=1)\n",
    "    ultosc = tb.ULTOSC(data[\"High\"], data[\"Low\"], data[\"Close\"], timeperiod1=7, timeperiod2=14, timeperiod3=28).to_frame().reset_index().set_axis(axes, axis=1)\n",
    "    bbands_upperband, bbands_middleband, bbands_lowerband = tb.BBANDS( data['Close'], timeperiod=5, nbdevup=2, nbdevdn=2, matype=0)\n",
    "    bbands_upperband = bbands_upperband.to_frame().reset_index().set_axis(axes, axis=1)\n",
    "    bbands_middleband = bbands_middleband.to_frame().reset_index().set_axis(axes, axis=1)\n",
    "    bbands_lowerband = bbands_lowerband.to_frame().reset_index().set_axis(axes, axis=1)\n",
    "    dema = tb.DEMA(data['Close'], timeperiod=30).to_frame( ).reset_index().set_axis(axes, axis=1)\n",
    "    ht_trendline = tb.HT_TRENDLINE( data['Close']).to_frame().reset_index().set_axis(axes, axis=1)\n",
    "    kama = tb.KAMA(data['Close'], timeperiod=30).to_frame( ).reset_index().set_axis(axes, axis=1)\n",
    "    ma = tb.MA(data['Close'], timeperiod=30, matype=0).to_frame( ).reset_index().set_axis(axes, axis=1)\n",
    "    midpoint = tb.MIDPOINT(data['Close'], timeperiod=14).to_frame( ).reset_index().set_axis(axes, axis=1)\n",
    "    midprice = tb.MIDPRICE(data[\"High\"], data[\"Low\"], timeperiod=14).to_frame( ).reset_index().set_axis(axes, axis=1)\n",
    "    sarext = tb.SAREXT(data[\"High\"], data[\"Low\"], startvalue=0, offsetonreverse=0, accelerationinitlong=0, accelerationlong=0, accelerationmaxlong=0, accelerationinitshort=0, accelerationshort=0, accelerationmaxshort=0).to_frame().reset_index().set_axis(axes, axis=1)\n",
    "    trima = tb.TRIMA(data['Close'], timeperiod=30).to_frame( ).reset_index().set_axis(axes, axis=1)\n",
    "    ad = tb.AD(data[\"High\"], data[\"Low\"], data['Close'], data['Volume']).to_frame().reset_index().set_axis(axes, axis=1)\n",
    "    adosc = tb.ADOSC(data[\"High\"], data[\"Low\"], data['Close'], data['Volume'], fastperiod=3, slowperiod=10).to_frame().reset_index().set_axis(axes, axis=1)\n",
    "    trange = tb.TRANGE(data[\"High\"], data[\"Low\"], data['Close']).to_frame( ).reset_index().set_axis(axes, axis=1)\n",
    "    avgprice = tb.AVGPRICE(data['Open'], data[\"High\"], data[\"Low\"], data['Close']).to_frame().reset_index().set_axis(axes, axis=1)\n",
    "    medprice = tb.MEDPRICE(data[\"High\"], data[\"Low\"]).to_frame( ).reset_index().set_axis(axes, axis=1)\n",
    "    typprice = tb.TYPPRICE(data[\"High\"], data[\"Low\"], data['Close']).to_frame( ).reset_index().set_axis(axes, axis=1)\n",
    "    wclprice = tb.WCLPRICE(data[\"High\"], data[\"Low\"], data['Close']).to_frame( ).reset_index().set_axis(axes, axis=1)\n",
    "    beta = tb.BETA(data[\"High\"], data[\"Low\"], timeperiod=5).to_frame( ).reset_index().set_axis(axes, axis=1)\n",
    "    correl = tb.CORREL(data[\"High\"], data[\"Low\"], timeperiod=30).to_frame( ).reset_index().set_axis(axes, axis=1)\n",
    "    linearreg = tb.LINEARREG(data['Close'], timeperiod=14).to_frame( ).reset_index().set_axis(axes, axis=1)\n",
    "    linearreg_angle = tb.LINEARREG_ANGLE( data['Close'], timeperiod=14).to_frame().reset_index().set_axis(axes, axis=1)\n",
    "    linearreg_intercept = tb.LINEARREG_INTERCEPT( data['Close'], timeperiod=14).to_frame().reset_index().set_axis(axes, axis=1)\n",
    "    linearreg_slope = tb.LINEARREG_SLOPE( data['Close'], timeperiod=14).to_frame().reset_index().set_axis(axes, axis=1)\n",
    "    tsf = tb.TSF(data['Close'], timeperiod=14).to_frame( ).reset_index().set_axis(axes, axis=1)\n",
    "    var = tb.VAR(data['Close'], timeperiod=5, nbdev=1).to_frame().reset_index().set_axis(axes, axis=1)\n",
    "    logReturn_1d = calculate_log_return_series(data['Adj_close'],1)\n",
    "    logReturn_5d = calculate_log_return_series(data['Adj_close'],5)\n",
    "    logReturn_21d = calculate_log_return_series(data['Adj_close'],21)\n",
    "    logReturn_Qtr = calculate_log_return_series(data['Adj_close'],60)\n",
    "    logReturn_6m = calculate_log_return_series(data['Adj_close'],125)\n",
    "    logReturn_1y = calculate_log_return_series(data['Adj_close'],220)\n",
    "    # DollarVolume = calculate_DollarValue(data['Adj_close'],data['Volume']).reset_index().set_axis(axes, axis=1)\n",
    "    \n",
    "    indicators = [rsi, cmo, plus_di, minus_di, logReturn_1d, logReturn_5d, logReturn_21d, logReturn_Qtr, logReturn_6m, logReturn_1y, willr, cci, ultosc, aroonosc, mfi, mom, macd, macdfix, linearreg_angle, linearreg_slope, rocp, roc, rocr, rocr100, slowk, fastd, slowd, aroonup, aroondown, apo,\n",
    "                  macdext, fastk, ppo, minus_dm, adosc, fastdrsi, fastkrsi, trange, trix, std, bop, var, plus_dm, correl, ad, beta, wclprice, tsf, typprice, avgprice, medprice, bbands_lowerband, linearreg, obv,\n",
    "                  bbands_middleband, tema, bbands_upperband, dema, midprice, midpoint, wma, ema, ht_trendline, kama, sma, ma, adxr, adx, trima, linearreg_intercept, dx]\n",
    "\n",
    "    indicatorValues = []\n",
    "    frame = data\n",
    "    for indicator in indicators:\n",
    "        frame = pd.merge(frame,indicator,on='Date')\n",
    "    frame1_columns = ['Date', 'Adj_close', 'Close', 'High', 'Low', 'Open', 'Volume']\n",
    "    frame2_columns = ['rsi','cmo','plus_di','minus_di', 'logReturn_1d', 'logReturn_5d', 'logReturn_21d', 'logReturn_Qtr', 'logReturn_6m', 'logReturn_1y','willr', 'cci','ultosc','aroonosc','mfi','mom','macd','macdfix','linearreg_angle','linearreg_slope','rocp','roc','rocr','rocr100','slowk','fastd','slowd','aroonup','aroondown','apo','macdext','fastk','ppo','minus_dm','adosc','fastdrsi','fastkrsi','trange','trix','std','bop','var','plus_dm','correl','ad','beta','wclprice','tsf','typprice','avgprice','medprice','bbands_lowerband','linearreg','obv','bbands_middleband','tema','bbands_upperband','dema','midprice','midpoint','wma','ema','ht_trendline','kama','sma','ma','adxr','adx','trima','linearreg_intercept','dx']\n",
    "    frame.columns= frame1_columns + frame2_columns\n",
    "    frame.set_index(['Date'],inplace=True)\n",
    "    return frame"
   ]
  },
  {
   "cell_type": "code",
   "execution_count": 9,
   "metadata": {
    "collapsed": false
   },
   "outputs": [],
   "source": [
    "def labeling(df, windowSize):\n",
    "    ''' Labels price data series with Buy/Sell/Hold labels '''\n",
    "    label_map = {'Hold': 0, 'Buy': 1, 'Sell': 2}\n",
    "    roll = df['Adj_close'].rolling(windowSize, center=True)\n",
    "    df['Label'] = roll.apply(lambda x: label_map['Buy'] if np.argmin(x) == windowSize // 2 else (label_map['Sell'] if np.argmax(x) == windowSize // 2 else label_map['Hold']), raw=True)\n",
    "    for label in label_map:\n",
    "        df['Label'].replace(label_map[label], label, inplace=True)\n",
    "    df.dropna(inplace=True)\n",
    "    #dates = pd.to_datetime(df.index)\n",
    "    return df"
   ]
  },
  {
   "cell_type": "code",
   "execution_count": 12,
   "metadata": {
    "collapsed": false
   },
   "outputs": [],
   "source": [
    "def extend_labels(df):\n",
    "    '''  Changes the label of the day before and the day after a Buy or Sell price peak or bottom '''\n",
    "    frame = df.copy()\n",
    "    before = 1\n",
    "    after = 1 \n",
    "    start_row = 3 \n",
    "    last_row = len(frame)-2\n",
    "    for i in range(start_row, last_row):\n",
    "        if frame.iloc[i, int(frame.columns.get_loc('Label'))] == 'Buy':\n",
    "            frame.iloc[(i-before), int(frame.columns.get_loc('Label'))] = 'Buy'\n",
    "        elif frame.iloc[i, int(frame.columns.get_loc('Label'))] == 'Buy':\n",
    "            frame.iloc[(i+after), frame.columns.get_loc('Label')] = 'Buy'\n",
    "        elif frame.iloc[i, frame.columns.get_loc('Label')] == 'Sell':\n",
    "            frame.iloc[(i-before), frame.columns.get_loc('Label')] = 'Sell'\n",
    "        elif frame.iloc[i, frame.columns.get_loc('Label')] == 'Sell':\n",
    "            frame.iloc[(i+after), frame.columns.get_loc('Label')] = 'Sell'\n",
    "        else:\n",
    "            pass\n",
    "    return frame                "
   ]
  },
  {
   "cell_type": "code",
   "execution_count": 13,
   "metadata": {
    "collapsed": false
   },
   "outputs": [],
   "source": [
    "def _scale_Xs_only(df):\n",
    "    ''' This is to scale data before training test split. Should scale after split to prevent leakage '''\n",
    "    features = df.iloc[:, :-1].columns\n",
    "    scaler = MinMaxScaler()\n",
    "    Xs = df.drop(['Label'], axis=1)\n",
    "    Xs.dropna(inplace=True)\n",
    "    ys = df[['Label']]\n",
    "    Xs.values[:] = scaler.fit_transform(Xs)\n",
    "    df = pd.merge(Xs, ys, on=\"Date\", how=\"outer\")\n",
    "    return df"
   ]
  },
  {
   "cell_type": "code",
   "execution_count": 14,
   "metadata": {
    "collapsed": false
   },
   "outputs": [],
   "source": [
    "# !pip install sqlalchemy\n",
    "from sqlalchemy import create_engine\n",
    "from PIL import Image\n",
    "\n",
    "engine = create_engine('sqlite:///2000_db_db')\n",
    "\n",
    "def _make_images(df, directory, sym):\n",
    "    ''' Create image files from numerical data. \n",
    "        ys:Looks for column called Labels.\n",
    "        Xs ys saved as numpy arrays and Images saved to three diffeerent directories '''\n",
    "    frame = df.copy()    \n",
    "    df = df.iloc[0:, 7:(IMAGE_SIZE+7)]\n",
    "    df.sort_index(ascending=False, inplace=True)\n",
    "    start_row = 0\n",
    "    last_row = len(df)-(IMAGE_SIZE+1)\n",
    "    image_list = []\n",
    "    image_labels = []\n",
    "    holds_counter = 0\n",
    "    count = 0\n",
    "    for i in range(start_row, last_row):\n",
    "        img = df.iloc[i:i+IMAGE_SIZE,:]\n",
    "        img = img.to_numpy()\n",
    "        # img = np.round(img)\n",
    "        # img = img.astype(np.uint8)\n",
    "        numerical = img\n",
    "        img = Image.fromarray(img, 'L') \n",
    "        if frame.iloc[i, frame.columns.get_loc('Label')] == 'Buy':\n",
    "            # img.save(os.path.join(directory+'/Buy','buy_'+sym+'_'+str(i)+'.png'))\n",
    "            image_list.append(numerical)            \n",
    "            image_labels.append(2)\n",
    "        elif frame.iloc[i, frame.columns.get_loc('Label')] == 'Sell':\n",
    "            # img.save(os.path.join(directory+'/Sell', 'sell_'+sym+'_'+str(i)+'.png'))\n",
    "            image_list.append(numerical)            \n",
    "            image_labels.append(0)\n",
    "        else:\n",
    "            if holds_counter <=200:\n",
    "                # img.save(os.path.join(directory+'/Hold','hold_'+sym+'_'+str(i)+'.png'))\n",
    "                image_list.append(numerical)            \n",
    "                image_labels.append(1)\n",
    "                holds_counter += 1\n",
    "            else:\n",
    "                pass\n",
    "        count +=1\n",
    "\n",
    "    print(f'Image files processed for:{sym} {count}' )\n",
    "    return image_list, image_labels"
   ]
  },
  {
   "cell_type": "code",
   "execution_count": 15,
   "metadata": {
    "collapsed": false
   },
   "outputs": [
    {
     "name": "stdout",
     "output_type": "stream",
     "text": [
      "Image files processed for:RY.TO 5462\n",
      "Remaining: 92\n"
     ]
    },
    {
     "name": "stdout",
     "output_type": "stream",
     "text": [
      "Image files processed for:TD.TO 5462\n",
      "Remaining: 91\n"
     ]
    },
    {
     "name": "stdout",
     "output_type": "stream",
     "text": [
      "Image files processed for:CNR.TO 5462\n",
      "Remaining: 90\n"
     ]
    },
    {
     "name": "stdout",
     "output_type": "stream",
     "text": [
      "Image files processed for:ENB.TO 5463\n",
      "Remaining: 89\n"
     ]
    },
    {
     "name": "stdout",
     "output_type": "stream",
     "text": [
      "Image files processed for:CP.TO 5052\n",
      "Remaining: 88\n"
     ]
    },
    {
     "name": "stdout",
     "output_type": "stream",
     "text": [
      "Image files processed for:CNQ.TO 5463\n",
      "Remaining: 87\n"
     ]
    },
    {
     "name": "stdout",
     "output_type": "stream",
     "text": [
      "Image files processed for:BMO.TO 5462\n",
      "Remaining: 86\n"
     ]
    },
    {
     "name": "stdout",
     "output_type": "stream",
     "text": [
      "Image files processed for:BNS.TO 5462\n",
      "Remaining: 85\n"
     ]
    },
    {
     "name": "stdout",
     "output_type": "stream",
     "text": [
      "Image files processed for:TRI.TO 3347\n",
      "Remaining: 84\n"
     ]
    },
    {
     "name": "stdout",
     "output_type": "stream",
     "text": [
      "Image files processed for:SHOP.TO 1601\n",
      "Remaining: 83\n"
     ]
    },
    {
     "name": "stdout",
     "output_type": "stream",
     "text": [
      "Image files processed for:ATD.TO 5462\n",
      "Remaining: 82\n"
     ]
    },
    {
     "name": "stdout",
     "output_type": "stream",
     "text": [
      "Image files processed for:TRP.TO 5462\n",
      "Remaining: 81\n"
     ]
    },
    {
     "name": "stdout",
     "output_type": "stream",
     "text": [
      "Image files processed for:BCE.TO 5463\n",
      "Remaining: 80\n"
     ]
    },
    {
     "name": "stdout",
     "output_type": "stream",
     "text": [
      "Image files processed for:SU.TO 5463\n",
      "Remaining: 79\n"
     ]
    },
    {
     "name": "stdout",
     "output_type": "stream",
     "text": [
      "Image files processed for:NTR.TO 945\n",
      "Remaining: 78\n"
     ]
    },
    {
     "name": "stdout",
     "output_type": "stream",
     "text": [
      "Image files processed for:CM.TO 5463\n",
      "Remaining: 77\n"
     ]
    },
    {
     "name": "stdout",
     "output_type": "stream",
     "text": [
      "Image files processed for:CVE.TO 2993\n",
      "Remaining: 76\n"
     ]
    },
    {
     "name": "stdout",
     "output_type": "stream",
     "text": [
      "Image files processed for:MFC.TO 5462\n",
      "Remaining: 75\n"
     ]
    },
    {
     "name": "stdout",
     "output_type": "stream",
     "text": [
      "Image files processed for:CSU.TO 3500\n",
      "Remaining: 74\n"
     ]
    },
    {
     "name": "stdout",
     "output_type": "stream",
     "text": [
      "Image files processed for:QSR.TO 1709\n",
      "Remaining: 73\n"
     ]
    },
    {
     "name": "stdout",
     "output_type": "stream",
     "text": [
      "Image files processed for:L.TO 5463\n",
      "Remaining: 72\n"
     ]
    },
    {
     "name": "stdout",
     "output_type": "stream",
     "text": [
      "Image files processed for:IMO.TO 5462\n",
      "Remaining: 71\n"
     ]
    },
    {
     "name": "stdout",
     "output_type": "stream",
     "text": [
      "Image files processed for:SLF.TO 5409\n",
      "Remaining: 70\n"
     ]
    },
    {
     "name": "stdout",
     "output_type": "stream",
     "text": [
      "Image files processed for:FNV.TO 3473\n",
      "Remaining: 69\n"
     ]
    },
    {
     "name": "stdout",
     "output_type": "stream",
     "text": [
      "Image files processed for:IFC.TO 4222\n",
      "Remaining: 68\n"
     ]
    },
    {
     "name": "stdout",
     "output_type": "stream",
     "text": [
      "Image files processed for:AEM.TO 5462\n",
      "Remaining: 67\n"
     ]
    },
    {
     "name": "stdout",
     "output_type": "stream",
     "text": [
      "Image files processed for:NA.TO 5462\n",
      "Remaining: 66\n"
     ]
    },
    {
     "name": "stdout",
     "output_type": "stream",
     "text": [
      "Image files processed for:RCI-B.TO 5462\n",
      "Remaining: 65\n"
     ]
    },
    {
     "name": "stdout",
     "output_type": "stream",
     "text": [
      "Image files processed for:GIB-A.TO 5462\n",
      "Remaining: 64\n"
     ]
    },
    {
     "name": "stdout",
     "output_type": "stream",
     "text": [
      "Image files processed for:GWO.TO 4835\n",
      "Remaining: 63\n"
     ]
    },
    {
     "name": "stdout",
     "output_type": "stream",
     "text": [
      "Image files processed for:FTS.TO 5462\n",
      "Remaining: 62\n"
     ]
    },
    {
     "name": "stdout",
     "output_type": "stream",
     "text": [
      "Image files processed for:WN.TO 5463\n",
      "Remaining: 61\n"
     ]
    },
    {
     "name": "stdout",
     "output_type": "stream",
     "text": [
      "Image files processed for:PPL.TO 4518\n",
      "Remaining: 60\n"
     ]
    },
    {
     "name": "stdout",
     "output_type": "stream",
     "text": [
      "Image files processed for:TECK-B.TO 5500\n",
      "Remaining: 59\n"
     ]
    },
    {
     "name": "stdout",
     "output_type": "stream",
     "text": [
      "Image files processed for:TOU.TO 2727\n",
      "Remaining: 58\n"
     ]
    },
    {
     "name": "stdout",
     "output_type": "stream",
     "text": [
      "Image files processed for:WPM.TO 4229\n",
      "Remaining: 57\n"
     ]
    },
    {
     "name": "stdout",
     "output_type": "stream",
     "text": [
      "Image files processed for:MGA.TO 4339\n",
      "Remaining: 56\n"
     ]
    },
    {
     "name": "stdout",
     "output_type": "stream",
     "text": [
      "Image files processed for:DOL.TO 3008\n",
      "Remaining: 55\n"
     ]
    },
    {
     "name": "stdout",
     "output_type": "stream",
     "text": [
      "Image files processed for:POW.TO 5462\n",
      "Remaining: 54\n"
     ]
    },
    {
     "name": "stdout",
     "output_type": "stream",
     "text": [
      "Image files processed for:H.TO 1477\n",
      "Remaining: 53\n"
     ]
    },
    {
     "name": "stdout",
     "output_type": "stream",
     "text": [
      "Image files processed for:FM.TO 5340\n",
      "Remaining: 52\n"
     ]
    },
    {
     "name": "stdout",
     "output_type": "stream",
     "text": [
      "Image files processed for:WSP.TO 1945\n",
      "Remaining: 51\n"
     ]
    },
    {
     "name": "stdout",
     "output_type": "stream",
     "text": [
      "Image files processed for:FFH.TO 5462\n",
      "Remaining: 50\n"
     ]
    },
    {
     "name": "stdout",
     "output_type": "stream",
     "text": [
      "Image files processed for:MRU.TO 5462\n",
      "Remaining: 49\n"
     ]
    },
    {
     "name": "stdout",
     "output_type": "stream",
     "text": [
      "Image files processed for:IVN.TO 2251\n",
      "Remaining: 48\n"
     ]
    },
    {
     "name": "stdout",
     "output_type": "stream",
     "text": [
      "Image files processed for:EMA.TO 5462\n",
      "Remaining: 47\n"
     ]
    },
    {
     "name": "stdout",
     "output_type": "stream",
     "text": [
      "Image files processed for:SAP.TO 5462\n",
      "Remaining: 46\n"
     ]
    },
    {
     "name": "stdout",
     "output_type": "stream",
     "text": [
      "Image files processed for:GFL.TO 401\n",
      "Remaining: 45\n"
     ]
    },
    {
     "name": "stdout",
     "output_type": "stream",
     "text": [
      "Image files processed for:CCO.TO 5462\n",
      "Remaining: 44\n"
     ]
    },
    {
     "name": "stdout",
     "output_type": "stream",
     "text": [
      "Image files processed for:TFII.TO 4517\n",
      "Remaining: 43\n"
     ]
    },
    {
     "name": "stdout",
     "output_type": "stream",
     "text": [
      "Image files processed for:ARX.TO 5462\n",
      "Remaining: 42\n"
     ]
    },
    {
     "name": "stdout",
     "output_type": "stream",
     "text": [
      "Image files processed for:CCL-B.TO 5463\n",
      "Remaining: 41\n"
     ]
    },
    {
     "name": "stdout",
     "output_type": "stream",
     "text": [
      "Image files processed for:CHP-UN.TO 2071\n",
      "Remaining: 40\n"
     ]
    },
    {
     "name": "stdout",
     "output_type": "stream",
     "text": [
      "Image files processed for:CU.TO 5311\n",
      "Remaining: 39\n"
     ]
    },
    {
     "name": "stdout",
     "output_type": "stream",
     "text": [
      "Image files processed for:EMP-A.TO 5462\n",
      "Remaining: 38\n"
     ]
    },
    {
     "name": "stdout",
     "output_type": "stream",
     "text": [
      "Image files processed for:NPI.TO 4518\n",
      "Remaining: 37\n"
     ]
    },
    {
     "name": "stdout",
     "output_type": "stream",
     "text": [
      "Image files processed for:IGM.TO 5462\n",
      "Remaining: 36\n"
     ]
    },
    {
     "name": "stdout",
     "output_type": "stream",
     "text": [
      "Image files processed for:CAE.TO 5463\n",
      "Remaining: 35\n"
     ]
    },
    {
     "name": "stdout",
     "output_type": "stream",
     "text": [
      "Image files processed for:CTC.TO 5462\n",
      "Remaining: 34\n"
     ]
    },
    {
     "name": "stdout",
     "output_type": "stream",
     "text": [
      "Image files processed for:WFG.TO 5464\n",
      "Remaining: 33\n"
     ]
    },
    {
     "name": "stdout",
     "output_type": "stream",
     "text": [
      "Image files processed for:TRQ.TO 5508\n",
      "Remaining: 32\n"
     ]
    },
    {
     "name": "stdout",
     "output_type": "stream",
     "text": [
      "Image files processed for:RBA.TO 4372\n",
      "Remaining: 31\n"
     ]
    },
    {
     "name": "stdout",
     "output_type": "stream",
     "text": [
      "Image files processed for:TIH.TO 5462\n",
      "Remaining: 30\n"
     ]
    },
    {
     "name": "stdout",
     "output_type": "stream",
     "text": [
      "Image files processed for:DOO.TO 2102\n",
      "Remaining: 29\n"
     ]
    },
    {
     "name": "stdout",
     "output_type": "stream",
     "text": [
      "Image files processed for:IAG.TO 5439\n",
      "Remaining: 28\n"
     ]
    },
    {
     "name": "stdout",
     "output_type": "stream",
     "text": [
      "Image files processed for:DSG.TO 5462\n",
      "Remaining: 27\n"
     ]
    },
    {
     "name": "stdout",
     "output_type": "stream",
     "text": [
      "Image files processed for:X.TO 4524\n",
      "Remaining: 26\n"
     ]
    },
    {
     "name": "stdout",
     "output_type": "stream",
     "text": [
      "Image files processed for:CAR-UN.TO 5462\n",
      "Remaining: 25\n"
     ]
    },
    {
     "name": "stdout",
     "output_type": "stream",
     "text": [
      "Image files processed for:FSV.TO 1597\n",
      "Remaining: 24\n"
     ]
    },
    {
     "name": "stdout",
     "output_type": "stream",
     "text": [
      "Image files processed for:EFN.TO 2459\n",
      "Remaining: 23\n"
     ]
    },
    {
     "name": "stdout",
     "output_type": "stream",
     "text": [
      "Image files processed for:K.TO 4835\n",
      "Remaining: 22\n"
     ]
    },
    {
     "name": "stdout",
     "output_type": "stream",
     "text": [
      "Image files processed for:STN.TO 5462\n",
      "Remaining: 21\n"
     ]
    },
    {
     "name": "stdout",
     "output_type": "stream",
     "text": [
      "Image files processed for:YRI.TO 5462\n",
      "Remaining: 20\n"
     ]
    },
    {
     "name": "stdout",
     "output_type": "stream",
     "text": [
      "Image files processed for:TIXT.TO 169\n",
      "Remaining: 19\n"
     ]
    },
    {
     "name": "stdout",
     "output_type": "stream",
     "text": [
      "Image files processed for:GIL.TO 5462\n",
      "Remaining: 18\n"
     ]
    },
    {
     "name": "stdout",
     "output_type": "stream",
     "text": [
      "Image files processed for:ALA.TO 4366\n",
      "Remaining: 17\n"
     ]
    },
    {
     "name": "stdout",
     "output_type": "stream",
     "text": [
      "Image files processed for:AC.TO 2889\n",
      "Remaining: 16\n"
     ]
    },
    {
     "name": "stdout",
     "output_type": "stream",
     "text": [
      "Image files processed for:AQN.TO 4518\n",
      "Remaining: 15\n"
     ]
    },
    {
     "name": "stdout",
     "output_type": "stream",
     "text": [
      "Image files processed for:KEY.TO 4518\n",
      "Remaining: 14\n"
     ]
    },
    {
     "name": "stdout",
     "output_type": "stream",
     "text": [
      "Image files processed for:LUN.TO 5462\n",
      "Remaining: 13\n"
     ]
    },
    {
     "name": "stdout",
     "output_type": "stream",
     "text": [
      "Image files processed for:QBR-B.TO 5462\n",
      "Remaining: 12\n"
     ]
    },
    {
     "name": "stdout",
     "output_type": "stream",
     "text": [
      "Image files processed for:REI-UN.TO 5462\n",
      "Remaining: 11\n"
     ]
    },
    {
     "name": "stdout",
     "output_type": "stream",
     "text": [
      "Image files processed for:WCP.TO 4954\n",
      "Remaining: 10\n"
     ]
    },
    {
     "name": "stdout",
     "output_type": "stream",
     "text": [
      "Image files processed for:ACO-X.TO 5464\n",
      "Remaining: 9\n"
     ]
    },
    {
     "name": "stdout",
     "output_type": "stream",
     "text": [
      "Image files processed for:CPX.TO 3051\n",
      "Remaining: 8\n"
     ]
    },
    {
     "name": "stdout",
     "output_type": "stream",
     "text": [
      "Image files processed for:PKI.TO 5462\n",
      "Remaining: 7\n"
     ]
    },
    {
     "name": "stdout",
     "output_type": "stream",
     "text": [
      "Image files processed for:ONEX.TO 5462\n",
      "Remaining: 6\n"
     ]
    },
    {
     "name": "stdout",
     "output_type": "stream",
     "text": [
      "Image files processed for:CIGI.TO 5462\n",
      "Remaining: 5\n"
     ]
    },
    {
     "name": "stdout",
     "output_type": "stream",
     "text": [
      "Image files processed for:ATZ.TO 1257\n",
      "Remaining: 4\n"
     ]
    },
    {
     "name": "stdout",
     "output_type": "stream",
     "text": [
      "Image files processed for:FTT.TO 5462\n",
      "Remaining: 3\n"
     ]
    },
    {
     "name": "stdout",
     "output_type": "stream",
     "text": [
      "Image files processed for:AGI.TO 4518\n",
      "Remaining: 2\n"
     ]
    },
    {
     "name": "stdout",
     "output_type": "stream",
     "text": [
      "Image files processed for:PSK.TO 1846\n",
      "Remaining: 1\n"
     ]
    },
    {
     "name": "stdout",
     "output_type": "stream",
     "text": [
      "Image files processed for:BBD-B.TO 5508\n",
      "Remaining: 0\n",
      "Stocks Processed:  93\n",
      "Errors:  0\n"
     ]
    }
   ],
   "source": [
    "lowest_date, highest_date = datetime.date(year=2000,month=1,day=10), datetime.date(year=2022,month=12,day=15)\n",
    "Xs = []\n",
    "ys= []\n",
    "count = 0\n",
    "errors = 0\n",
    "\n",
    "for symbol in symbol_list:\n",
    "    OHLCV = db_one_symbol(symbol,lowest_date, highest_date)\n",
    "    if pd.isnull(OHLCV).sum().max()>0:\n",
    "        errors=+1\n",
    "        print(\"Error:\",symbol)\n",
    "        pass\n",
    "    else:\n",
    "        frame = _create_ta_indicators(OHLCV)\n",
    "        frame.dropna(inplace=True)\n",
    "        single_stock_data = labeling(frame,31)\n",
    "        single_stock_data = extend_labels(single_stock_data)        \n",
    "        # single_stock_data = _scale_Xs_only(single_stock_data)\n",
    "        single_stock_data, labels = _make_images(single_stock_data, images_dir, symbol)\n",
    "        Xs.extend(single_stock_data)\n",
    "        ys.extend(labels)\n",
    "        count +=1\n",
    "        print(\"Remaining:\", len(symbol_list)-count)\n",
    "print(\"Stocks Processed: \",count)\n",
    "print(\"Errors: \",errors)"
   ]
  },
  {
   "cell_type": "code",
   "execution_count": 14,
   "metadata": {
    "collapsed": false
   },
   "outputs": [
    {
     "name": "stdout",
     "output_type": "stream",
     "text": [
      "Class label count: [(0, 17856), (1, 18647), (2, 17725)]\n"
     ]
    }
   ],
   "source": [
    "print(\"Class label count:\",sorted(Counter(ys).items()))"
   ]
  },
  {
   "cell_type": "code",
   "execution_count": 15,
   "metadata": {
    "collapsed": false
   },
   "outputs": [],
   "source": [
    "np.save('Xs.npy',Xs)\n",
    "np.save('ys.npy', ys)\n"
   ]
  },
  {
   "cell_type": "code",
   "execution_count": 15,
   "metadata": {
    "collapsed": false
   },
   "outputs": [],
   "source": []
  }
 ],
 "metadata": {
  "kernelspec": {
   "argv": [
    "/usr/bin/python3",
    "-m",
    "ipykernel_launcher",
    "-f",
    "{connection_file}"
   ],
   "display_name": "Python 3",
   "env": null,
   "interrupt_mode": "signal",
   "language": "python",
   "metadata": null,
   "name": "python3"
  },
  "name": "16_PartA_Data.ipynb"
 },
 "nbformat": 4,
 "nbformat_minor": 2
}
