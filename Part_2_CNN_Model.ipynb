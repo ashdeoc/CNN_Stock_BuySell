{
 "cells": [
  {
   "cell_type": "code",
   "execution_count": 1,
   "metadata": {},
   "outputs": [],
   "source": [
    "import pandas as pd\n",
    "import numpy as np\n",
    "import seaborn as sns\n",
    "import os, itertools\n",
    "os.environ['MPLCONFIGDIR'] = os.getcwd() + \"/configs/\"\n",
    "import matplotlib.pyplot as plt\n",
    "%matplotlib inline\n",
    "from collections import Counter\n"
   ]
  },
  {
   "cell_type": "code",
   "execution_count": 2,
   "metadata": {},
   "outputs": [
    {
     "name": "stderr",
     "output_type": "stream",
     "text": [
      "2023-01-13 15:15:16.160415: I tensorflow/core/platform/cpu_feature_guard.cc:193] This TensorFlow binary is optimized with oneAPI Deep Neural Network Library (oneDNN) to use the following CPU instructions in performance-critical operations:  AVX2 FMA\n",
      "To enable them in other operations, rebuild TensorFlow with the appropriate compiler flags.\n",
      "2023-01-13 15:15:16.302478: W tensorflow/compiler/xla/stream_executor/platform/default/dso_loader.cc:64] Could not load dynamic library 'libcudart.so.11.0'; dlerror: libcudart.so.11.0: cannot open shared object file: No such file or directory\n",
      "2023-01-13 15:15:16.302501: I tensorflow/compiler/xla/stream_executor/cuda/cudart_stub.cc:29] Ignore above cudart dlerror if you do not have a GPU set up on your machine.\n",
      "2023-01-13 15:15:17.115748: W tensorflow/compiler/xla/stream_executor/platform/default/dso_loader.cc:64] Could not load dynamic library 'libnvinfer.so.7'; dlerror: libnvinfer.so.7: cannot open shared object file: No such file or directory\n",
      "2023-01-13 15:15:17.115885: W tensorflow/compiler/xla/stream_executor/platform/default/dso_loader.cc:64] Could not load dynamic library 'libnvinfer_plugin.so.7'; dlerror: libnvinfer_plugin.so.7: cannot open shared object file: No such file or directory\n",
      "2023-01-13 15:15:17.115899: W tensorflow/compiler/tf2tensorrt/utils/py_utils.cc:38] TF-TRT Warning: Cannot dlopen some TensorRT libraries. If you would like to use Nvidia GPU with TensorRT, please make sure the missing libraries mentioned above are installed properly.\n"
     ]
    }
   ],
   "source": [
    "from sklearn.utils import shuffle\n",
    "from sklearn.model_selection import train_test_split\n",
    "from sklearn.preprocessing import LabelEncoder\n",
    "from tensorflow.keras.models import Sequential\n",
    "from tensorflow.keras.layers import Dense\n",
    "from keras.layers import Conv2D, MaxPooling2D, MaxPool2D\n",
    "from keras.layers import Dense, Dropout, Activation, Flatten\n",
    "from tensorflow.keras.optimizers import Adam\n",
    "from tensorflow.keras.losses import sparse_categorical_crossentropy"
   ]
  },
  {
   "cell_type": "code",
   "execution_count": 3,
   "metadata": {},
   "outputs": [
    {
     "name": "stdout",
     "output_type": "stream",
     "text": [
      "Using CPU\n"
     ]
    },
    {
     "name": "stderr",
     "output_type": "stream",
     "text": [
      "2023-01-13 15:15:49.091774: W tensorflow/compiler/xla/stream_executor/platform/default/dso_loader.cc:64] Could not load dynamic library 'libcuda.so.1'; dlerror: libcuda.so.1: cannot open shared object file: No such file or directory\n",
      "2023-01-13 15:15:49.091806: W tensorflow/compiler/xla/stream_executor/cuda/cuda_driver.cc:265] failed call to cuInit: UNKNOWN ERROR (303)\n",
      "2023-01-13 15:15:49.091835: I tensorflow/compiler/xla/stream_executor/cuda/cuda_diagnostics.cc:156] kernel driver does not appear to be running on this host (96bce204aa19): /proc/driver/nvidia/version does not exist\n"
     ]
    }
   ],
   "source": [
    "from tensorflow.config.experimental import list_physical_devices\n",
    "gpu_devices = list_physical_devices('GPU')\n",
    "if gpu_devices:\n",
    "    print('Using GPU')\n",
    "else:\n",
    "    print('Using CPU')\n"
   ]
  },
  {
   "cell_type": "code",
   "execution_count": 6,
   "metadata": {},
   "outputs": [],
   "source": [
    "IMAGE_WIDTH, IMAGE_HEIGHT = 50, 50"
   ]
  },
  {
   "cell_type": "code",
   "execution_count": 4,
   "metadata": {},
   "outputs": [
    {
     "name": "stdout",
     "output_type": "stream",
     "text": [
      "Xs: (345919, 50, 50)\n",
      "ys: (345919,)\n",
      "Class label count: [(0, 14653), (1, 316677), (2, 14589)]\n"
     ]
    }
   ],
   "source": [
    "Xs_data = np.load('Xs.npy',allow_pickle=True)\n",
    "ys_data = np.load('ys.npy',allow_pickle=True)\n",
    "print(\"Xs:\",Xs_data.shape)\n",
    "print(\"ys:\",ys_data.shape)\n",
    "print(\"Class label count:\",sorted(Counter(ys_data).items()))"
   ]
  },
  {
   "cell_type": "code",
   "execution_count": 7,
   "metadata": {},
   "outputs": [
    {
     "name": "stdout",
     "output_type": "stream",
     "text": [
      "Xs: (345919, 2500)\n",
      "ys: (345919,)\n"
     ]
    }
   ],
   "source": [
    "# Reshape for MinMaxScaler and RandomUnderSampler \n",
    "Xs_data = Xs_data.reshape((len(Xs_data),(IMAGE_HEIGHT*IMAGE_WIDTH)))\n",
    "ys_data = ys_data\n",
    "print(\"Xs:\",Xs_data.shape)\n",
    "print(\"ys:\",ys_data.shape)"
   ]
  },
  {
   "cell_type": "code",
   "execution_count": null,
   "metadata": {},
   "outputs": [
    {
     "name": "stdout",
     "output_type": "stream",
     "text": [
      "Collecting imbalanced-learn\n",
      "  Downloading imbalanced_learn-0.10.1-py3-none-any.whl (226 kB)\n",
      "\u001b[2K     \u001b[90m━━━━━━━━━━━━━━━━━━━━━━━━━━━━━━━━━━━━━━━\u001b[0m \u001b[32m226.0/226.0 kB\u001b[0m \u001b[31m1.6 MB/s\u001b[0m eta \u001b[36m0:00:00\u001b[0ma \u001b[36m0:00:01\u001b[0m\n",
      "\u001b[?25hRequirement already satisfied: threadpoolctl>=2.0.0 in /opt/conda/lib/python3.10/site-packages (from imbalanced-learn) (3.1.0)\n",
      "Requirement already satisfied: scikit-learn>=1.0.2 in /opt/conda/lib/python3.10/site-packages (from imbalanced-learn) (1.2.0)\n",
      "Requirement already satisfied: joblib>=1.1.1 in /opt/conda/lib/python3.10/site-packages (from imbalanced-learn) (1.2.0)\n",
      "Requirement already satisfied: numpy>=1.17.3 in /opt/conda/lib/python3.10/site-packages (from imbalanced-learn) (1.23.5)\n",
      "Requirement already satisfied: scipy>=1.3.2 in /opt/conda/lib/python3.10/site-packages (from imbalanced-learn) (1.10.0)\n",
      "Installing collected packages: imbalanced-learn\n",
      "Successfully installed imbalanced-learn-0.10.1\n"
     ]
    }
   ],
   "source": [
    "''' RandomUnderSampler for classification imbalance of Hold labels'''\n",
    "!pip install -U imbalanced-learn\n",
    "from imblearn.under_sampling import RandomUnderSampler\n",
    "from imblearn.over_sampling import RandomOverSampler\n",
    "\n",
    "# rus = RandomUnderSampler()\n",
    "# Xs, ys = rus.fit_resample(Xs_data, ys_data)\n",
    "\n",
    "ros = RandomOverSampler(random_state=0)\n",
    "Xs, ys = ros.fit_resample(Xs_data, ys_data)\n",
    "\n",
    "print(\"Xs:\",Xs.shape)\n",
    "print(\"ys:\",ys.shape)\n",
    "print(\"Class label count:\",sorted(Counter(ys).items()))"
   ]
  },
  {
   "cell_type": "code",
   "execution_count": 7,
   "metadata": {},
   "outputs": [],
   "source": [
    "# Xs = Xs_data\n",
    "# ys = ys_data\n",
    "''' Reshape again if needed before train test split'''\n",
    "# Xs = Xs.reshape(-1,(IMAGE_HEIGHT),(IMAGE_WIDTH),1)\n",
    "# ys = ys.reshape(-1,1)\n",
    "# print(\"Xs:\",Xs.shape)\n",
    "# print(\"ys:\",ys.shape)\n",
    "X_train, X_test, y_train, y_test = train_test_split(Xs, ys, test_size=0.20, random_state=0, shuffle=True, stratify=ys)\n"
   ]
  },
  {
   "cell_type": "code",
   "execution_count": 8,
   "metadata": {},
   "outputs": [
    {
     "name": "stdout",
     "output_type": "stream",
     "text": [
      "X_train: (35013, 2500)\n",
      "X_test: (8754, 2500)\n"
     ]
    }
   ],
   "source": [
    "from sklearn.preprocessing import MinMaxScaler\n",
    "\n",
    "scaler = MinMaxScaler()\n",
    "X_train = scaler.fit_transform(X_train)\n",
    "X_test = scaler.transform(X_test)\n",
    "print(\"X_train:\",X_train.shape)\n",
    "print(\"X_test:\",X_test.shape)"
   ]
  },
  {
   "cell_type": "markdown",
   "metadata": {},
   "source": [
    "# Logistic Regression Baseline"
   ]
  },
  {
   "cell_type": "code",
   "execution_count": 10,
   "metadata": {},
   "outputs": [],
   "source": [
    "# from sklearn.linear_model import LogisticRegression\n",
    "# from sklearn.metrics import accuracy_score\n",
    "# from sklearn.svm import SVC\n",
    "\n",
    "# logisticregression = LogisticRegression(C=1, multi_class='ovr', max_iter=1000).fit(X_train, y_train)#Evaluate Logistic Regression model:\n",
    "\n",
    "# print(\"training set score: %f\" % logisticregression.score(X_train, y_train))\n",
    "# print(\"test set score: %f\" % logisticregression.score(X_test, y_test))"
   ]
  },
  {
   "cell_type": "code",
   "execution_count": 9,
   "metadata": {},
   "outputs": [
    {
     "name": "stdout",
     "output_type": "stream",
     "text": [
      "X_train: (35013, 50, 50, 1)\n",
      "y_train: (35013, 1)\n",
      "X_test: (8754, 50, 50, 1)\n",
      "y_test: (8754, 1)\n"
     ]
    }
   ],
   "source": [
    "''' Reshape back to Image format for CNN '''\n",
    "X_train = X_train.reshape(-1,(IMAGE_HEIGHT),(IMAGE_WIDTH),1)\n",
    "y_train = y_train.reshape(-1,1)\n",
    "X_test = X_test.reshape(-1,(IMAGE_HEIGHT),(IMAGE_WIDTH),1)\n",
    "y_test = y_test.reshape(-1,1)\n",
    "print(\"X_train:\",X_train.shape)\n",
    "print(\"y_train:\",y_train.shape)\n",
    "print(\"X_test:\",X_test.shape)\n",
    "print(\"y_test:\",y_test.shape)"
   ]
  },
  {
   "cell_type": "markdown",
   "metadata": {},
   "source": [
    "# CNN Model"
   ]
  },
  {
   "cell_type": "code",
   "execution_count": null,
   "metadata": {},
   "outputs": [],
   "source": [
    "''' CNN model that is trained and tested on entire dataset '''\n",
    "model = Sequential()#add model layers\n",
    "model.add(Conv2D(32, (5,5), activation='relu', input_shape=(IMAGE_HEIGHT,IMAGE_WIDTH,1)))\n",
    "model.add(Dropout(0.20))\n",
    "model.add(Conv2D(64, (5,5), activation='relu'))\n",
    "model.add(MaxPooling2D((2, 2)))\n",
    "model.add(Dropout(0.25))\n",
    "model.add(Flatten())\n",
    "model.add(Dense(128, activation='relu'))\n",
    "model.add(Dropout(0.50))\n",
    "model.add(Dense(3, activation='softmax'))\n",
    "model.compile(optimizer='adam', loss='sparse_categorical_crossentropy', metrics=['accuracy'])\n",
    "#train the model\n",
    "history = model.fit(X_train, y_train, validation_data=(X_test, y_test), verbose=1, batch_size=100, epochs=20)\n"
   ]
  },
  {
   "cell_type": "code",
   "execution_count": 11,
   "metadata": {},
   "outputs": [
    {
     "name": "stdout",
     "output_type": "stream",
     "text": [
      "\n",
      "Test Data Results\n",
      "------------------\n",
      "Test Accuracy: 59.26%\n",
      "\n",
      "F1 score: 0.5693036372575101\n",
      "\n",
      "Recall score: 0.5926433630340415\n",
      "\n",
      "Precision score: 0.5837651858637897\n",
      "\n",
      "              precision    recall  f1-score   support\n",
      "\n",
      "        Sell       0.58      0.37      0.45      2918\n",
      "        Hold       0.62      0.94      0.75      2918\n",
      "         Buy       0.55      0.47      0.51      2918\n",
      "\n",
      "    accuracy                           0.59      8754\n",
      "   macro avg       0.58      0.59      0.57      8754\n",
      "weighted avg       0.58      0.59      0.57      8754\n",
      "\n"
     ]
    }
   ],
   "source": [
    "from sklearn.metrics import average_precision_score,precision_score,recall_score, f1_score\n",
    "from sklearn import metrics\n",
    "from sklearn.metrics import confusion_matrix, ConfusionMatrixDisplay\n",
    "from sklearn.metrics import classification_report\n",
    "\n",
    "results = model.evaluate(X_test,y_test,verbose=0)\n",
    "loss, accuracy = results\n",
    "print(\"\\nTest Data Results\\n------------------\")\n",
    "# print(\"Test Loss: %.2f%%\" % (loss * 100))\n",
    "print(\"Test Accuracy: %.2f%%\" % (accuracy * 100))\n",
    "predictions = model.predict(X_test,verbose=0)\n",
    "classes = np.argmax(predictions, axis=1)\n",
    "f1 = f1_score(y_test, classes, average='weighted')\n",
    "print(f\"\\nF1 score: {f1}\")\n",
    "rc = recall_score(y_test, classes, average='weighted')\n",
    "print(f\"\\nRecall score: {rc}\")\n",
    "pr = precision_score(y_test, classes, average='weighted')\n",
    "print(f\"\\nPrecision score: {pr}\")\n",
    "cr = classification_report(y_test, classes,target_names=['Sell','Hold','Buy'] )\n",
    "print(f\"\\n{cr}\")"
   ]
  },
  {
   "cell_type": "code",
   "execution_count": 15,
   "metadata": {},
   "outputs": [
    {
     "data": {
      "text/plain": [
       "Text(50.722222222222214, 0.5, 'True Label')"
      ]
     },
     "execution_count": 15,
     "metadata": {},
     "output_type": "execute_result"
    },
    {
     "data": {
      "image/png": "[encoded data removed]",
      "text/plain": [
       "<Figure size 640x480 with 2 Axes>"
      ]
     },
     "metadata": {},
     "output_type": "display_data"
    }
   ],
   "source": [
    "''' Plot confusion matrix '''\n",
    "axlabels = ['Sell','Hold','Buy']\n",
    "aylabels = ['Sell','Hold','Buy']\n",
    "cf_matrix = confusion_matrix(y_test, classes, normalize='all')\n",
    "s=sns.heatmap(cf_matrix/np.sum(cf_matrix), annot=True, fmt='.2%', cmap='Blues',xticklabels=axlabels, yticklabels=aylabels)\n",
    "s.set_xlabel('Predicted Label', fontsize=14)\n",
    "s.set_ylabel('True Label', fontsize=14)\n"
   ]
  },
  {
   "cell_type": "code",
   "execution_count": 27,
   "metadata": {},
   "outputs": [
    {
     "data": {
      "image/png": "[encoded data removed]",
      "text/plain": [
       "<Figure size 640x480 with 1 Axes>"
      ]
     },
     "metadata": {},
     "output_type": "display_data"
    }
   ],
   "source": [
    "''' Plot train and test accuracy vs epoch chart '''\n",
    "sns.set(style=\"ticks\", context=\"talk\")\n",
    "plt.style.use(\"dark_background\")\n",
    "\n",
    "plt.plot(history.history['accuracy'], color=\"yellow\")\n",
    "plt.plot(history.history['val_accuracy'], color=\"green\")\n",
    "plt.title('Model accuracy')\n",
    "plt.ylabel('Accuracy %')\n",
    "plt.xlabel('Epoch')\n",
    "plt.legend(['train accuracy', 'test accuracy'], loc='upper left')\n",
    "plt.show()"
   ]
  },
  {
   "cell_type": "code",
   "execution_count": 13,
   "metadata": {},
   "outputs": [
    {
     "name": "stdout",
     "output_type": "stream",
     "text": [
      "Saved model to disk\n"
     ]
    }
   ],
   "source": [
    "def save_model(file_name):\n",
    "    ''' Save the model as an h5 file'''\n",
    "    model.save(file_name + \".h5\", overwrite=True)\n",
    "    # model.save( os.path.join(path, \"model.h5\") )\n",
    "    print(\"Saved model to disk\")\n",
    "\n",
    "save_model('2000to2019_150epochs_model')"
   ]
  },
  {
   "cell_type": "markdown",
   "metadata": {},
   "source": [
    "# K FOLD CROSS VALIDATION"
   ]
  },
  {
   "cell_type": "code",
   "execution_count": null,
   "metadata": {},
   "outputs": [],
   "source": [
    "from sklearn.model_selection import KFold\n",
    "\n",
    "input_train = X_train\n",
    "input_test = X_test\n",
    "target_train = y_train\n",
    "target_test = y_test\n",
    "\n",
    "# Model configuration\n",
    "batch_size = 100\n",
    "img_width, img_height, img_num_channels = IMAGE_HEIGHT, IMAGE_WIDTH, 1\n",
    "loss_function = 'sparse_categorical_crossentropy'\n",
    "no_classes = 3\n",
    "no_epochs = 100\n",
    "optimizer = 'Adam'\n",
    "verbosity = 1\n",
    "num_folds = 5\n",
    "\n",
    "# Determine shape of the data\n",
    "input_shape = (img_width, img_height, img_num_channels)\n",
    "\n",
    "# Parse numbers as floats\n",
    "input_train = input_train.astype('float32')\n",
    "input_test = input_test.astype('float32')\n",
    "\n",
    "# Define per-fold score containers \n",
    "acc_per_fold = []\n",
    "loss_per_fold = []\n",
    "\n",
    "# Merge inputs and targets\n",
    "inputs = np.concatenate((input_train, input_test), axis=0)\n",
    "targets = np.concatenate((target_train, target_test), axis=0)\n",
    "\n",
    "# Define the K-fold Cross Validator\n",
    "kfold = KFold(n_splits=num_folds, shuffle=True)\n",
    "\n",
    "# K-fold Cross Validation model evaluation\n",
    "fold_no = 1\n",
    "for train, test in kfold.split(inputs, targets):\n",
    "  # Define the model architecture\n",
    "  model = Sequential()\n",
    "  model.add(Conv2D(32, kernel_size=(5, 5), activation='relu', input_shape=input_shape))\n",
    "  model.add(Dropout(0.20))\n",
    "  model.add(Conv2D(64, kernel_size=(5, 5), activation='relu'))\n",
    "  model.add(MaxPooling2D(pool_size=(2, 2)))\n",
    "  model.add(Dropout(0.25))\n",
    "  model.add(Flatten())\n",
    "  model.add(Dense(128, activation='relu'))\n",
    "  model.add(Dropout(0.50))\n",
    "  model.add(Dense(no_classes, activation='softmax'))\n",
    "\n",
    "  # Compile the model\n",
    "  model.compile(loss=loss_function,\n",
    "                optimizer=optimizer,\n",
    "                metrics=['accuracy'])\n",
    "\n",
    "\n",
    "  # Generate a print\n",
    "  print('------------------------------------------------------------------------')\n",
    "  print(f'Training for fold {fold_no} ...')\n",
    "\n",
    "  # Fit data to model\n",
    "  history = (model.fit(inputs[train], targets[train],\n",
    "              batch_size=batch_size,\n",
    "              epochs=no_epochs,\n",
    "              verbose=verbosity))\n",
    "\n",
    "  # Generate generalization metrics\n",
    "  scores = model.evaluate(inputs[test], targets[test], verbose=0)\n",
    "  print(f'Score for fold {fold_no}: {model.metrics_names[0]} of {scores[0]}; {model.metrics_names[1]} of {scores[1]*100}%')\n",
    "  acc_per_fold.append(scores[1] * 100)\n",
    "  loss_per_fold.append(scores[0])\n",
    "\n",
    "  # Increase fold number\n",
    "  fold_no = fold_no + 1\n",
    "\n"
   ]
  },
  {
   "cell_type": "code",
   "execution_count": null,
   "metadata": {},
   "outputs": [],
   "source": [
    "print('------------------------------------------------------------------------')\n",
    "print('Score per fold')\n",
    "for i in range(0, len(acc_per_fold)):\n",
    "  print('------------------------------------------------------------------------')\n",
    "  print(f'> Fold {i+1} - Loss: {loss_per_fold[i]} - Accuracy: {acc_per_fold[i]}%')\n",
    "print('------------------------------------------------------------------------')\n",
    "print('Average scores for all folds:')\n",
    "print(f'> Accuracy: {np.mean(acc_per_fold)} (+- {np.std(acc_per_fold)})')\n",
    "print(f'> Loss: {np.mean(loss_per_fold)}')\n",
    "\n",
    "print('------------------------------------------------------------------------')"
   ]
  },
  {
   "cell_type": "code",
   "execution_count": 16,
   "metadata": {},
   "outputs": [
    {
     "name": "stdout",
     "output_type": "stream",
     "text": [
      "Xs: (22129, 50, 50)\n",
      "ys: (22129,)\n",
      "Class label count: [(0, 1761), (1, 18647), (2, 1721)]\n"
     ]
    }
   ],
   "source": [
    "Xs_outsample = np.load('Xs_outsample.npy',allow_pickle=True)\n",
    "ys_outsample = np.load('ys_outsample.npy',allow_pickle=True)\n",
    "print(\"Xs:\",Xs_outsample.shape)\n",
    "print(\"ys:\",ys_outsample.shape)\n",
    "print(\"Class label count:\",sorted(Counter(ys_outsample).items()))"
   ]
  },
  {
   "cell_type": "code",
   "execution_count": 17,
   "metadata": {},
   "outputs": [
    {
     "name": "stdout",
     "output_type": "stream",
     "text": [
      "Xs: (22129, 2500)\n"
     ]
    }
   ],
   "source": [
    "Xs_a = Xs_outsample.reshape(-1,IMAGE_HEIGHT*IMAGE_WIDTH)\n",
    "# ys_a = ys_outsample.reshape(-1,1)\n",
    "print(\"Xs:\",Xs_a.shape)\n",
    "# print(\"ys:\",ys_a.shape)"
   ]
  },
  {
   "cell_type": "code",
   "execution_count": 18,
   "metadata": {},
   "outputs": [],
   "source": [
    "import pickle\n",
    "scalerfile = 'scaler.sav'\n",
    "pickle.dump(scaler, open(scalerfile, 'wb'))\n"
   ]
  },
  {
   "cell_type": "code",
   "execution_count": null,
   "metadata": {},
   "outputs": [],
   "source": [
    "import pickle\n",
    "scalerfile = 'scaler.sav'\n",
    "scaler = pickle.load(open(scalerfile, 'rb'))\n",
    "# test_scaled_set = scaler.transform(test_set)"
   ]
  },
  {
   "cell_type": "code",
   "execution_count": 19,
   "metadata": {},
   "outputs": [
    {
     "data": {
      "text/plain": [
       "array([[0.89567767, 0.50294642, 0.39497492, ..., 0.09736971, 0.09748308,\n",
       "        0.09734311],\n",
       "       [0.89447368, 0.49815383, 0.4101446 , ..., 0.09659885, 0.09686795,\n",
       "        0.09693691],\n",
       "       [0.89922515, 0.51706757, 0.41618096, ..., 0.09627795, 0.096901  ,\n",
       "        0.09699793],\n",
       "       ...,\n",
       "       [0.88540821, 0.46206774, 0.35420754, ..., 0.01135198, 0.01133276,\n",
       "        0.01130495],\n",
       "       [0.83367856, 0.25615219, 0.31433214, ..., 0.0087217 , 0.00898156,\n",
       "        0.0090165 ],\n",
       "       [0.80265569, 0.13266226, 0.26482745, ..., 0.00870393, 0.00875915,\n",
       "        0.00877812]])"
      ]
     },
     "execution_count": 19,
     "metadata": {},
     "output_type": "execute_result"
    }
   ],
   "source": [
    "Xs_b = scaler.transform(Xs_a)\n",
    "Xs_b"
   ]
  },
  {
   "cell_type": "code",
   "execution_count": 20,
   "metadata": {},
   "outputs": [
    {
     "name": "stdout",
     "output_type": "stream",
     "text": [
      "Xs: (22129, 50, 50, 1)\n",
      "ys: (47302,)\n"
     ]
    }
   ],
   "source": [
    "Xs_c = Xs_b.reshape(-1,IMAGE_HEIGHT,IMAGE_WIDTH,1)\n",
    "y = ys_outsample.reshape(-1,1)\n",
    "print(\"Xs:\",Xs_c.shape)\n",
    "print(\"ys:\",ys.shape)"
   ]
  },
  {
   "cell_type": "code",
   "execution_count": 21,
   "metadata": {},
   "outputs": [
    {
     "name": "stdout",
     "output_type": "stream",
     "text": [
      "692/692 [==============================] - 2s 3ms/step\n"
     ]
    },
    {
     "data": {
      "text/plain": [
       "array([0, 0, 2, ..., 1, 1, 1])"
      ]
     },
     "execution_count": 21,
     "metadata": {},
     "output_type": "execute_result"
    }
   ],
   "source": [
    "y_pred = model.predict(Xs_c,verbose=1)\n",
    "y_pred_labels = np.argmax(y_pred, axis=1)\n",
    "y_pred_labels"
   ]
  },
  {
   "cell_type": "code",
   "execution_count": 22,
   "metadata": {},
   "outputs": [
    {
     "name": "stdout",
     "output_type": "stream",
     "text": [
      "ys True Label: (22129,)\n",
      "ys Predicted Label: (22129,)\n"
     ]
    }
   ],
   "source": [
    "y_true = y.reshape(-1)\n",
    "print(\"ys True Label:\",y_true.shape)\n",
    "print(\"ys Predicted Label:\",y_pred_labels.shape)"
   ]
  },
  {
   "cell_type": "code",
   "execution_count": 23,
   "metadata": {},
   "outputs": [
    {
     "data": {
      "text/plain": [
       "0.4782864114962267"
      ]
     },
     "execution_count": 23,
     "metadata": {},
     "output_type": "execute_result"
    }
   ],
   "source": [
    "from sklearn.metrics import accuracy_score\n",
    "\n",
    "accuracy_score(y_true,y_pred_labels)"
   ]
  },
  {
   "cell_type": "code",
   "execution_count": 24,
   "metadata": {},
   "outputs": [
    {
     "name": "stdout",
     "output_type": "stream",
     "text": [
      "              precision    recall  f1-score   support\n",
      "\n",
      "        Sell     0.0858    0.3634    0.1389      1761\n",
      "        Hold     0.8491    0.5183    0.6437     18647\n",
      "         Buy     0.0848    0.1621    0.1113      1721\n",
      "\n",
      "    accuracy                         0.4783     22129\n",
      "   macro avg     0.3399    0.3480    0.2980     22129\n",
      "weighted avg     0.7290    0.4783    0.5621     22129\n",
      "\n"
     ]
    }
   ],
   "source": [
    "from sklearn.metrics import classification_report\n",
    "\n",
    "print(classification_report(y_true, y_pred_labels, target_names=['Sell','Hold','Buy'], digits=4))"
   ]
  },
  {
   "cell_type": "code",
   "execution_count": 26,
   "metadata": {},
   "outputs": [
    {
     "data": {
      "text/plain": [
       "Text(50.722222222222214, 0.5, 'True Label')"
      ]
     },
     "execution_count": 26,
     "metadata": {},
     "output_type": "execute_result"
    },
    {
     "data": {
      "image/png": "[encoded data removed]",
      "text/plain": [
       "<Figure size 640x480 with 2 Axes>"
      ]
     },
     "metadata": {},
     "output_type": "display_data"
    }
   ],
   "source": [
    "plt.style.use(\"dark_background\")\n",
    "''' Plot confusion matrix '''\n",
    "axlabels = ['Sell','Hold','Buy']\n",
    "aylabels = ['Sell','Hold','Buy']\n",
    "cf_matrix = confusion_matrix(y_true, y_pred_labels, normalize='all') \n",
    "s=sns.heatmap(cf_matrix/np.sum(cf_matrix), annot=True, fmt='.2%', cmap='Blues',xticklabels=axlabels, yticklabels=aylabels)\n",
    "s.set_xlabel('Predicted Label', fontsize=14)\n",
    "s.set_ylabel('True Label', fontsize=14)\n"
   ]
  },
  {
   "cell_type": "code",
   "execution_count": null,
   "metadata": {},
   "outputs": [],
   "source": []
  }
 ],
 "metadata": {
  "kernelspec": {
   "display_name": "Python 3 (ipykernel)",
   "language": "python",
   "name": "python3"
  },
  "language_info": {
   "codemirror_mode": {
    "name": "ipython",
    "version": 3
   },
   "file_extension": ".py",
   "mimetype": "text/x-python",
   "name": "python",
   "nbconvert_exporter": "python",
   "pygments_lexer": "ipython3",
   "version": "3.10.8"
  },
  "name": "Part_2_CNN_Model.ipynb"
 },
 "nbformat": 4,
 "nbformat_minor": 2
}
